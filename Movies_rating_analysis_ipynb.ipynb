{
  "nbformat": 4,
  "nbformat_minor": 0,
  "metadata": {
    "colab": {
      "provenance": [],
      "authorship_tag": "ABX9TyPlpxscyWqcRLBVWnQOVroc",
      "include_colab_link": true
    },
    "kernelspec": {
      "name": "python3",
      "display_name": "Python 3"
    },
    "language_info": {
      "name": "python"
    }
  },
  "cells": [
    {
      "cell_type": "markdown",
      "metadata": {
        "id": "view-in-github",
        "colab_type": "text"
      },
      "source": [
        "<a href=\"https://colab.research.google.com/github/Jennifer-Hills/Portfolio/blob/main/Movies_rating_analysis_ipynb.ipynb\" target=\"_parent\"><img src=\"https://colab.research.google.com/assets/colab-badge.svg\" alt=\"Open In Colab\"/></a>"
      ]
    },
    {
      "cell_type": "markdown",
      "source": [
        "Background and Objective\n",
        "\n",
        "Imagine you work for a film review website that collects ratings from users for various movies. Your\n",
        "\n",
        "job is to analyze this dataset to extract key insights, such as the overall average rating, the best-\n",
        "and worst-rated movies, and average ratings by genre. This exercise will help you practice Python\n",
        "\n",
        "syntax, data types and structures, control flows, and functions in a data analysis context.\n",
        "\n",
        "Dataset\n",
        "\n",
        "You will work with a hard-coded list of dictionaries, where each dictionary represents a movie. Each\n",
        "movie has the following keys:\n",
        "- title: The title of the movie\n",
        "- genre: The genre of the movie\n",
        "- release_year: The year the movie was released\n",
        "- rating: The average rating (out of 10) for the movie"
      ],
      "metadata": {
        "id": "28aKvyKWWLzx"
      }
    },
    {
      "cell_type": "code",
      "source": [
        "import pandas as pd\n",
        "movies=[{\"title\":\"Fury Road\",\"genre\":\"Action\",\"release_year\":\t2015,\"rating\":\t8.1},\n",
        "        {\"title\":\"Redemption\",\"genre\":\"Action\",\"release_year\":\t2011,\"rating\":\t7.6},\n",
        "         {\"title\":\"John Wick\",\"genre\":\"Action\",\"release_year\":\t2014,\"rating\":\t7.5},\n",
        "         {\"title\":\"Inception\",\"genre\":\"Sci_Fi\",\"release_year\":\t2010,\"rating\":\t8.8},\n",
        "         {\"title\":\"Gladiator\",\"genre\":\"Drama\",\"release_year\":\t2000,\"rating\":\t8.5},\n",
        "         {\"title\":\"The Dark Knight\",\"genre\":\"crime\",\"release_year\":\t2008,\"rating\":\t9.2},\n",
        "         {\"title\":\"Kill Bill:\",\"genre\":\"Action\",\"release_year\":\t2003,\"rating\":\t8.2},\n",
        "         {\"title\":\"The Avengers\",\"genre\":\"Sci_Fi\",\"release_year\":\t2012,\"rating\":\t8.0},\n",
        "         {\"title\":\"Skyfall\",\"genre\":\"Thriller\",\"release_year\":\t2012,\"rating\":\t7.8},\n",
        "         {\"title\":\"Black Panther\",\"genre\":\"Sci_Fi\",\"release_year\":\t2018,\"rating\":\t7.3},\n",
        "         {\"title\":\"Logan\",\"genre\":\"drama\",\"release_year\":\t2017,\"rating\":\t8.1},\n",
        "         {\"title\":\"Wonder Woman\",\"genre\":\"action\",\"release_year\":\t2017,\"rating\":\t7.5},\n",
        "         {\"title\":\"Fast Five\",\"genre\":\"Thriller\",\"release_year\":\t2014,\"rating\":\t7.2},\n",
        "          {\"title\":\"The Equalizer\",\"genre\":\"Thriller\",\"release_year\":\t2014,\"rating\":\t7.2},\n",
        "          {\"title\":\"Atomic Blonde\",\"genre\":\"Action\",\"release_year\":\t2017,\"rating\":\t6.2},\n",
        "          {\"title\":\"Tenet\",\"genre\":\"Sci_Fi\",\"release_year\":\t2020,\"rating\":\t8.2},\n",
        "          {\"title\":\"Money Heist\",\"genre\":\"Crime\",\"release_year\":\t2017,\"rating\":\t8.2},\n",
        "         {\"title\":\"Merlin\",\"genre\":\"Adventure,\",\"release_year\":\t2008,\"rating\":\t7.3},\n",
        "         {\"title\":\"Prison Break\",\"genre\":\"Action\",\"release_year\":\t2005,\"rating\":\t9.5},\n",
        "        {\"title\":\"24 hours\",\"genre\":\"action\",\"release_year\":\t2017,\"rating\":\t8.2} ]\n",
        "df=pd. DataFrame(movies)\n",
        "print(df)\n",
        ""
      ],
      "metadata": {
        "colab": {
          "base_uri": "https://localhost:8080/"
        },
        "id": "fUzJfmhuWP6k",
        "outputId": "3565f3d7-8605-4e3a-ec2a-582714877d43"
      },
      "execution_count": 32,
      "outputs": [
        {
          "output_type": "stream",
          "name": "stdout",
          "text": [
            "              title       genre  release_year  rating\n",
            "0         Fury Road      Action          2015     8.1\n",
            "1        Redemption      Action          2011     7.6\n",
            "2         John Wick      Action          2014     7.5\n",
            "3         Inception      Sci_Fi          2010     8.8\n",
            "4         Gladiator       Drama          2000     8.5\n",
            "5   The Dark Knight       crime          2008     9.2\n",
            "6        Kill Bill:      Action          2003     8.2\n",
            "7      The Avengers      Sci_Fi          2012     8.0\n",
            "8           Skyfall    Thriller          2012     7.8\n",
            "9     Black Panther      Sci_Fi          2018     7.3\n",
            "10            Logan       drama          2017     8.1\n",
            "11     Wonder Woman      action          2017     7.5\n",
            "12        Fast Five    Thriller          2014     7.2\n",
            "13    The Equalizer    Thriller          2014     7.2\n",
            "14    Atomic Blonde      Action          2017     6.2\n",
            "15            Tenet      Sci_Fi          2020     8.2\n",
            "16      Money Heist       Crime          2017     8.2\n",
            "17           Merlin  Adventure,          2008     7.3\n",
            "18     Prison Break      Action          2005     9.5\n",
            "19         24 hours      action          2017     8.2\n"
          ]
        }
      ]
    },
    {
      "cell_type": "markdown",
      "source": [
        "Analysis Functions:\n",
        "- Overall Average Rating:\n",
        "Create a function to calculate the average rating of all movies\n",
        "- Best and Worst Rated Movies:\n",
        "Create a function (or two) to determine:\n",
        "- Best-rated movie (highest rating)\n",
        "- Worst-rated movie (lowest rating)\n",
        "- Genre-wise Analysis:\n",
        "Create a function that computes the average rating per genre\n",
        "- Use a dictionary with genre as key and list/average of ratings as value\n",
        "- Year Filter:\n",
        "Create a function that takes a year and returns all movies released after that year"
      ],
      "metadata": {
        "id": "z90Zj1pTZAe6"
      }
    },
    {
      "cell_type": "code",
      "source": [
        "#Overall Average Rating\n",
        "#Average = sum over total. This means ; find sum of ratings and count the number of movies using len()"
      ],
      "metadata": {
        "id": "FslTgh3nefZg"
      },
      "execution_count": null,
      "outputs": []
    },
    {
      "cell_type": "code",
      "source": [
        "total_rating =sum(movie['rating']for movie in movies)\n",
        "total_movies=len(movies)\n",
        "Overall_Average_Rating=(total_rating/total_movies)*10/10\n",
        "print(Overall_Average_Rating)\n",
        ""
      ],
      "metadata": {
        "colab": {
          "base_uri": "https://localhost:8080/"
        },
        "id": "xSCc86e2dBTT",
        "outputId": "211af8e6-889e-4faa-bcc9-b060af6514f8"
      },
      "execution_count": 33,
      "outputs": [
        {
          "output_type": "stream",
          "name": "stdout",
          "text": [
            "7.93\n"
          ]
        }
      ]
    },
    {
      "cell_type": "code",
      "source": [
        "#Best rated movie\n",
        "best_rated_movie = max(movies, key=lambda movie: movie['rating'])\n",
        "print(best_rated_movie)"
      ],
      "metadata": {
        "colab": {
          "base_uri": "https://localhost:8080/"
        },
        "id": "h9OP6bkNiFL1",
        "outputId": "498410f0-1237-405c-fb9d-f0177ec58ec9"
      },
      "execution_count": 34,
      "outputs": [
        {
          "output_type": "stream",
          "name": "stdout",
          "text": [
            "{'title': 'Prison Break', 'genre': 'Action', 'release_year': 2005, 'rating': 9.5}\n"
          ]
        }
      ]
    },
    {
      "cell_type": "code",
      "source": [
        "#worst rated movie\n",
        "worst_rated_movie = min(movies, key=lambda movie: movie['rating'])\n",
        "print(worst_rated_movie)"
      ],
      "metadata": {
        "colab": {
          "base_uri": "https://localhost:8080/"
        },
        "id": "_hBUDjyojseo",
        "outputId": "e0c933bb-e853-4470-cfe1-18a9a82b6476"
      },
      "execution_count": 35,
      "outputs": [
        {
          "output_type": "stream",
          "name": "stdout",
          "text": [
            "{'title': 'Atomic Blonde', 'genre': 'Action', 'release_year': 2017, 'rating': 6.2}\n"
          ]
        }
      ]
    },
    {
      "cell_type": "code",
      "source": [
        "#Genre-wise Analysis: Create a function that computes the average rating per genre"
      ],
      "metadata": {
        "id": "h3ZoheM8kaaD"
      },
      "execution_count": null,
      "outputs": []
    },
    {
      "cell_type": "code",
      "source": [
        "#define my function and name it average_ratiing_per_genre\n",
        "def average_rating_per_genre(movies):\n",
        "    genre_ratings = {}\n",
        "    genre_total = {}\n",
        "#filter every movie based on genre and corresponding ratings using for loop, if-else statement\n",
        "    for movie in movies:\n",
        "        genre = movie[\"genre\"]\n",
        "        rating = movie[\"rating\"]\n",
        "        if genre in genre_ratings:\n",
        "            genre_ratings[genre] += rating\n",
        "            genre_total[genre] += 1\n",
        "        else:\n",
        "            genre_ratings[genre] = rating\n",
        "            genre_total[genre] = 1\n",
        "  #find the average per genre\n",
        "    genre_averages = {genre: genre_ratings[genre] / genre_total[genre] for genre in genre_ratings}\n",
        "\n",
        "    return genre_averages\n",
        "#call the function created.\n",
        "genre_averages = average_rating_per_genre(movies)\n",
        "for genre, average_rating in genre_averages.items():\n",
        "    print(\"The average rating for \"+str(genre)+\" is \"+str(average_rating)+\"\")"
      ],
      "metadata": {
        "colab": {
          "base_uri": "https://localhost:8080/"
        },
        "id": "UPfDE3VsnYPT",
        "outputId": "d0a41c90-d5ae-4186-a3e1-7261472bb36c"
      },
      "execution_count": 50,
      "outputs": [
        {
          "output_type": "stream",
          "name": "stdout",
          "text": [
            "The average rating for Action is 7.8500000000000005\n",
            "The average rating for Sci_Fi is 8.075\n",
            "The average rating for Drama is 8.5\n",
            "The average rating for crime is 9.2\n",
            "The average rating for Thriller is 7.3999999999999995\n",
            "The average rating for drama is 8.1\n",
            "The average rating for action is 7.85\n",
            "The average rating for Crime is 8.2\n",
            "The average rating for Adventure, is 7.3\n"
          ]
        }
      ]
    },
    {
      "cell_type": "code",
      "source": [
        "#alternatively using the append function instead of iteration process"
      ],
      "metadata": {
        "id": "tYGV9rtErc8M"
      },
      "execution_count": null,
      "outputs": []
    },
    {
      "cell_type": "code",
      "source": [
        "#use the defined function\n",
        "def average_rating_per_genre(movies):\n",
        "    genre_ratings = {}\n",
        "\n",
        "# Collect all ratings under every genres\n",
        "    for movie in movies:\n",
        "        genre = movie[\"genre\"]\n",
        "        rating = movie[\"rating\"]\n",
        "\n",
        "        if genre in genre_ratings:\n",
        "            genre_ratings[genre].append(rating)\n",
        "        else:\n",
        "            genre_ratings[genre] = [rating]\n",
        "\n",
        "# Calculate the average rating for each genre using sum and len()\n",
        "    genre_averages = {genre: sum(ratings) / len(ratings) for genre, ratings in genre_ratings.items()}\n",
        "\n",
        "    return genre_averages\n",
        "\n",
        "# set our calculated average to the function creted. i.e call the function\n",
        "genre_averages = average_rating_per_genre(movies)\n",
        "\n",
        "# Print the average ratings by genre\n",
        "for genre, average_rating in genre_averages.items():\n",
        "    print(f\"The average rating for '{genre}' is {average_rating:.2f}\")"
      ],
      "metadata": {
        "colab": {
          "base_uri": "https://localhost:8080/"
        },
        "id": "TcKpJs_AsBkR",
        "outputId": "c5172f93-4d82-4fb9-b40d-426686b78166"
      },
      "execution_count": 51,
      "outputs": [
        {
          "output_type": "stream",
          "name": "stdout",
          "text": [
            "The average rating for 'Action' is 7.85\n",
            "The average rating for 'Sci_Fi' is 8.07\n",
            "The average rating for 'Drama' is 8.50\n",
            "The average rating for 'crime' is 9.20\n",
            "The average rating for 'Thriller' is 7.40\n",
            "The average rating for 'drama' is 8.10\n",
            "The average rating for 'action' is 7.85\n",
            "The average rating for 'Crime' is 8.20\n",
            "The average rating for 'Adventure,' is 7.30\n"
          ]
        }
      ]
    },
    {
      "cell_type": "code",
      "source": [
        "#Year Filter: Create a function that takes a year and returns all movies released after that year"
      ],
      "metadata": {
        "id": "o8dHQ1ybuDcZ"
      },
      "execution_count": null,
      "outputs": []
    },
    {
      "cell_type": "code",
      "source": [
        "#create a function called filter_movies_year(movies)\n",
        "import pandas as pd\n",
        "def filter_movies_by_year(movies, year):\n",
        "    x = [movie for movie in movies if movie[\"release_year\"] > year]\n",
        "    return x\n",
        "\n",
        "# initialize a bench mark by setting the base year as  2017\n",
        "x= filter_movies_by_year(movies, 2017)\n",
        "\n",
        "# Print the filtered movies\n",
        "print(\"Movies released after 2017:\")\n",
        "for movie in x:\n",
        "    print(f\"Title: {movie['title']},  Release Year: {movie['release_year']}\")"
      ],
      "metadata": {
        "colab": {
          "base_uri": "https://localhost:8080/"
        },
        "id": "jmKNNqp8tYEK",
        "outputId": "1f1f77f4-9a73-471b-8436-dba19b019416"
      },
      "execution_count": 58,
      "outputs": [
        {
          "output_type": "stream",
          "name": "stdout",
          "text": [
            "Movies released after 2017:\n",
            "Title: Black Panther,  Release Year: 2018\n",
            "Title: Tenet,  Release Year: 2020\n"
          ]
        }
      ]
    },
    {
      "cell_type": "markdown",
      "source": [
        "3.Report Generation:\n",
        "- Write a function that prints a summary including:\n",
        "- Overall average rating\n",
        "\n",
        "- Best-rated and worst-rated movie titles + ratings\n",
        "- Genre-wise average ratings"
      ],
      "metadata": {
        "id": "-kDTJB0Hx7ID"
      }
    },
    {
      "cell_type": "code",
      "source": [
        "#define a function called generate_report(movies)\n",
        "def generate_report(movies):\n",
        "#1. extract the solutions in 1 above:over average, best/worst movie\n",
        "    total_rating = sum(movie['rating'] for movie in movies)\n",
        "    overall_average_rating = total_rating / len(movies)\n",
        "    best_movie = max(movies, key=lambda x: x['rating'])\n",
        "    worst_movie = min(movies, key=lambda x: x['rating'])\n",
        "#Genre_wise analysis\n",
        "    genre_ratings = {}\n",
        "    for movie in movies:\n",
        "        genre = movie['genre']\n",
        "        if genre not in genre_ratings:\n",
        "            genre_ratings[genre] = {'total_rating': 0, 'count': 0}\n",
        "        genre_ratings[genre]['total_rating'] += movie['rating']\n",
        "        genre_ratings[genre]['count'] += 1\n",
        "    genre_averages = {genre: ratings['total_rating'] / ratings['count'] for genre, ratings in genre_ratings.items()}\n",
        " # Print the summary report\n",
        "    print(f\"Overall Average Rating: {overall_average_rating}\")\n",
        "    print(f\"\\nBest-Rated Movie: {best_movie['title']} (Rating: {best_movie['rating']}\")\n",
        "    print(f\"Worst-Rated Movie: {worst_movie['title']} (Rating: {worst_movie['rating']}\")\n",
        "\n",
        "    print(\"\\nGenre-wise Average Ratings:\")\n",
        "    for genre, avg_rating in genre_averages.items():\n",
        "        print(f\"{genre}: {avg_rating:.2f}/10\")\n",
        "\n",
        "# Call the function to generate the report\n",
        "generate_report(movies)"
      ],
      "metadata": {
        "colab": {
          "base_uri": "https://localhost:8080/"
        },
        "id": "d7ykXNhXxpj0",
        "outputId": "2d3f13f7-318a-4971-a6ad-b13cba141279"
      },
      "execution_count": 60,
      "outputs": [
        {
          "output_type": "stream",
          "name": "stdout",
          "text": [
            "Overall Average Rating: 7.93\n",
            "\n",
            "Best-Rated Movie: Prison Break (Rating: 9.5\n",
            "Worst-Rated Movie: Atomic Blonde (Rating: 6.2\n",
            "\n",
            "Genre-wise Average Ratings:\n",
            "Action: 7.85/10\n",
            "Sci_Fi: 8.07/10\n",
            "Drama: 8.50/10\n",
            "crime: 9.20/10\n",
            "Thriller: 7.40/10\n",
            "drama: 8.10/10\n",
            "action: 7.85/10\n",
            "Crime: 8.20/10\n",
            "Adventure,: 7.30/10\n"
          ]
        }
      ]
    },
    {
      "cell_type": "markdown",
      "source": [
        "Code Organization:\n",
        "- Use functions to organize code\n",
        "- Add comments and use clear variable names\n",
        "- Follow Pythons style guidelines (PEP8)"
      ],
      "metadata": {
        "id": "nO6LorKu0m8Z"
      }
    },
    {
      "cell_type": "code",
      "source": [
        "#1 Finding Overall Average Rating\n",
        "def calculate_overall_average_rating(movies):     #    This function calculates the overall average rating of all movies.\n",
        "\n",
        "    total_rating = sum(movie['rating'] for movie in movies)\n",
        "    return total_rating / len(movies)\n",
        "  #2. Finding Best and worst movies\n",
        "def find_best_and_worst_movies(movies):          #  This function identifies the best-rated and worst-rated movie.\n",
        "    best_movie = max(movies, key=lambda x: x['rating'])\n",
        "    worst_movie = min(movies, key=lambda x: x['rating'])\n",
        "    return best_movie, worst_movie\n",
        "  #3."
      ],
      "metadata": {
        "id": "Z7EKIHpy0HUa"
      },
      "execution_count": null,
      "outputs": []
    }
  ]
}